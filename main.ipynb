{
 "cells": [
  {
   "cell_type": "code",
   "execution_count": 1,
   "metadata": {},
   "outputs": [],
   "source": [
    "from gtts import gTTS\n",
    "from pydub import AudioSegment\n",
    "import random, os"
   ]
  },
  {
   "cell_type": "markdown",
   "metadata": {},
   "source": [
    "# Create Directory for Cache and Result"
   ]
  },
  {
   "cell_type": "code",
   "execution_count": 2,
   "metadata": {},
   "outputs": [],
   "source": [
    "os.makedirs('samples', exist_ok=True)\n",
    "os.makedirs('result', exist_ok=True)"
   ]
  },
  {
   "cell_type": "markdown",
   "metadata": {},
   "source": [
    "# Define Input"
   ]
  },
  {
   "cell_type": "code",
   "execution_count": 3,
   "metadata": {},
   "outputs": [],
   "source": [
    "string = '바나나우유 계속 좋아하시나요?'\n",
    "lang = 'ko'\n",
    "random_factor = 0.35\n",
    "normal_frame_rate = 44100"
   ]
  },
  {
   "cell_type": "markdown",
   "metadata": {},
   "source": [
    "# Process Audio"
   ]
  },
  {
   "cell_type": "code",
   "execution_count": 4,
   "metadata": {},
   "outputs": [
    {
     "name": "stdout",
     "output_type": "stream",
     "text": [
      "안 - octaves: 2.18, fr: 108998\n",
      "녕 - octaves: 2.31, fr: 118769\n",
      "하 - octaves: 2.05, fr: 99072\n",
      "세 - octaves: 2.33, fr: 120285\n",
      "요 - octaves: 2.15, fr: 106739\n",
      "너 - octaves: 2.30, fr: 118271\n",
      "굴 - octaves: 2.30, fr: 118036\n",
      "상 - octaves: 2.07, fr: 100556\n",
      "회 - octaves: 2.26, fr: 115184\n",
      "입 - octaves: 2.04, fr: 98763\n",
      "니 - octaves: 2.22, fr: 112083\n",
      "다 - octaves: 2.17, fr: 108321\n"
     ]
    },
    {
     "data": {
      "text/html": [
       "\n",
       "                    <audio controls>\n",
       "                        <source src=\"data:audio/mpeg;base64,SUQzBAAAAAAAI1RTU0UAAAAPAAADTGF2ZjU4LjQ1LjEwMAAAAAAAAAAAAAAA//tAwAAAAAAAAAAAAAAAAAAAAAAASW5mbwAAAA8AAAA5AAAvPQAIDAwRERUVGR4eIiInJyswMDQ0ODg9QUFGRkpKT1NTV1dcXGBlZWlpbm5ydnZ7e39/hIiIjIyRkZWamp6eo6Onq6uwsLS0ub29wsLGxsrPz9PT2Njc4eHl5enp7vLy9/f7+/8AAAAATGF2YzU4LjkxAAAAAAAAAAAAAAAAJAZiAAAAAAAALz30VJXvAAAAAAD/+1DEAAAHvAFfVBGAAa4Xr7cesAIBHUAAAJLAfB8H3l3xcH3CAEAQBMHwfB8HwQBAEHA4CAIAgc8uf/gmD4Pv+n3f4Y/wQBAEAx+IAQBAE38p07WSJtttwkkkANKyJhp2A6aE34d4ZZ8CiSRxQ3GqPwjrmxstvyfA6DTI5LoDubyno2UaFiEcQWTXOwZKrr5ZLNmx99acIb9eD5slLneXJ1P55bLDBKD7iSaLrhb1v4z+xL3U3D3M6BhUGxdVSplyhkh3VpEKhKMSA6oYyQuU//tSxAiADIDdefz2gBFrqy/89ZaLI4s6nbRbRISvsTVCU0FaAaiYZG5WFaABcG4xWYqidpJKOGQ3nuXgmROoUjIWKdTzppapEyausum9brRNldRs1u3/Ut1P1mgYr///6lUAoGJYZQmac6hId2rIKujSpoM4LNRH+S+9CRnOJwe5X7L45KCCAWlPhq0+F2DLe7zV4AC7biR5DSvyoBX+P+X9vVieUU2qN//u31+Rvs//nPpS///7XliZUdVGh7QmF+ctuzCXPDkgAPZlTz86ZDD/+1LEBwAL2LFjx6TOgXUo6v2EiZVG6LWW4ek0zfN0gijCqFPXGCIGgwBKoVDADCheVsDB8f9wUbUPJxLcdnI5jt/6+vlbP/BiONS1AJeY6rCYJXh3AOIv269fI/91Z18Fg0eu/7JoQUAQEBxwmSB15hcsIlbPGaByn7caMOJGE9F/C4EEiS5OBJgogCiBBT6lR+RwrGXkAtpjgJXNctv1lRyoZ0zAxNUrf6JZHyGvzGR/+392JZ+lyc63I0RdECom4ZK4gEIlWNtoERaqreLFXv/7UsQHAAvNL1usME15gorpNYYZjWW6ZdPWE5wqILBXTIaxqggiZG/urv6J6azivHYGO3L1U5FhkVrTM5mUY0qVacZRpfe2qGBAwQYNBMUYxDMmpNDT0mUlV///f9PQGwaxNFU/moAAAIkbabIFjgwxd07jMQXyCrTqUGUPC0fWmTqVZZsPnXzGEexHHH576E8gfBa00C6RSMjLVC6bZ44NaaqVoVZka/VV4IN12kdK1QodGR0qsyJMdcuzfrNn/r3c/fnf+toJU0UpJIAUJI4G//tSxAWACzxDaaY9KPF8nayU8RrYxquJImn7xmWNTVBQhpqJk1tgFsEkAhPf0aMnp2unJ+8oCBeH5wofv6gwlKz/pb+Hy4WD4nAhx4g3f+J8iGIPh9Z9QYEeLg+TKVj0rCwYLlp////OGsYCovnVrIof7/PsxE6GmPg4PisFWIMEwHIjPjnhxZG91P/P9CN/Qnsibf/vdBd22Hkydx8Jp7FtWJ4ZNYuw4CRkBz46sfwQlC5Q4AwsGGOU3IM9HTzMSDGoFplSCckjZBG2fKBOj6n/+1LEBwAL/MWHo72UMXSUbLz2PXjj7fVjfc8PwW8vKwxnIDQEBNBKzl19ENGatTf5baMaQHBM7WSeeGBwyOZRERI+SzNctBQmj8RyO5jx6jWA2ctWCPjmA9Aoa1r//8NZYSsJuPLRXoaEJEAAFEQAXbnMvz0M8OpZUTY/DjDMITJVEwvTQnLML8ENzk5ILShUlZdbTQsLkqVSSqrGoYVKGtUuCXTjKfhyk9FqUZPFojBcj3XERzTyKHqPLTbF1BApV3+RjTYwYiEAABv9ImJPG//7UsQGgAr0i1/g4MGBiw/oaaeZmGAWiwFrHGwoC29RRcR5rsjjKU2A1U+dQMAlmnGkZq8qqp8ecbcolXOr+AZZESE9gZIsPnc2twKuaIlf8S6t0RaISPfkVutcqBqw24goAAJlkG8pC18LMiIe05K1fhi4YPKJytpE0twTRenUx/k4Wq5P8mRCnCycOlwDltk58qu2mkcZ2S26mSOFqJHRDLCrQZJPWGnNOhRA3I/wo2w248SkXN2nWRUkpYmQ8Fh1KoAAAAACjQWFVWfFlBhI//tSxAcAC0jjSUwkasmKmek4YLJQl1chtWw1dA7W5DZgPgyRFS4ZZjJMlxbDJqWSykdlLPj53kL06c/p2J13c/d0hIedJMpXFusyNWfUW4SoiVCtz5brU7bs5i7rv7z+/oFcHiIdiQGwP/dR/4PKmlBZmQ9seuHlc7z/j3ItqsqvtuOUuvbfoySy4OgOjdsqA3NgIMkdKjUMtFxqCxUpV9itWV7zeRWh6WRRQkc1BE5/+Ytizxr2C57X/XHoHONVFFJtG2iZmZmYWIkAACvbUwb/+1LEBoALUI957eRreYcN7/28pPqalmIAs1+pO1dRAoG1g5nSMGGIseZ0QGkNS45ikl0uMFbEpy07fPjA+cy1tnbX37uUtM1hl7v0EAKBp6UDAwNydxf4cXRbmhBxYYAf0PB3iIiIZY0AAEP/CBrKHpjNGcchntGyZgLITHjPsk+lzOPQVdxw2QgY8zg3JfWNy9w2QyR+oGoIw3NpUGs+BwBACAqBoqHAgbepNmqpAUpULTYqDbXnf/////VYcPPaPC77VZlGdWZUJIgjBxlIhP/7UsQGAAppP4PmGE1ROjNwPYQJYj/I9npidD2dguJENEwcKJJdCC4S/bKpmxNKzSZIaFJnsqOqqy/6+JJdWUyU///0Vspv//////32rMpgajGuS32GfUZ5ka9y5pYZXZUIggzBytT0aPLpxaVwzBAJWqaRJhEFR66nTu6NNTHOhES5d7Il2S39NasVy1t8qp//t2MjZf//////zUTTdnXc3aX/t29O/dVGrWY3OEUyEAgjBRjrJ6L0zdxAYm4rECBq5gh/bNmPtuBNxegzZjeM//tSxBMACjyTceDgYZFMkWx2noAC0p3HKNK6lYxx59zs/1F1aAijSv/6A7///9QrPVHt6WxFeSLFSp0aKBIqLR2KQrjaAACoTcyYUOwzZ8DkO2z8cZCpMvBZVa6nhDUgeHhMjQ8f2a4HHeV/TN1dff8/wqo41RUQmb57+WeU///+p6jx0FUgetJIcRxE0lokVNSxygAAHnEgAACmAJbGyCAIaB7TdQyCCHTAPwcGroaCRtfpAkm8DnVHb3Bpg5YM1dJo7Tlzq+P06cSTOmKwtbr/+1LEHoAR4RNDuZeAAWka67cGMAD4vU4nyy+ZnWXsbFKSVwzyHU5Ic5ZhNr2NjeN3rQlyniwqWwuXsWLSNIoIm4zPvdNvcVzvOvnO///vFL33q+//9/HtiF+GJfFiNYBWEyav0f0t/+//4//tRoFAgFAgAAYUPWgWw6S9MRflcs82VyBYN5kIWTGotxn6xpZCztczqS9ckzocQ7G6F5zpoZUszvTE1bygkkTxcyMMHzZxafPGTT2kvqd15isvJmzSVYBAIBAJJJJI3G4222kD+f/7UsQHgAwZC224EwARcqyv9xigAn5/3//+/7kZ1jiQ4s9ITt7NFCkCVvOzOo/0LSiE/nzvZLe73GMa+T5ep03/+tNc3DUN79Oqp9rP3+u9e8prVxIZDYKiRpAG2qZjyFD1qNvxFj7a0JHI6zHBWLBBCGwIalJ5n43Ig7cd76Mh/pEJ0KCTHpY9AQ4LhxGJ7GYWDUYLAgCzfUuWqrId/RGRGe23++8//+hn5jn/nrMf/yhGTnq6GaKf///+pGcSCd5PtSrdhU2FMQG3AAItDYYv//tSxAaACjkDdfzygAkvDnD88o5SRR2HE+qoYAZ4NIMFl1VBAoeNiYuHwKhg4AAILtFZd/QsyVUyq7kdP///////X1FRGRxpB5lIgxdSJrO++XPNWa3GoXtuqlZVYZAU22SYXbM7HsPscxj4enfy6BExaxnhnJtlxf3U83kCYrzjDdXsaQQfwDMSgPg44QBHPkptn0t/5EsSKOOi6PuQRCwstIZUynlRclR1NWSAAhsuxo+GbjvqRG4GgDwZ75wZhK0ovRdkpJsw4xkT5ke3OIX/+1LEFYAKBHl357C0UUqQrTzzDdoZi5HAFBa/mUDipNhZ1vFDcmYpyhv//+xsVPW7O97Q6s8LlR71NAmpGiEAKlgBWbnChtCYC1M6yXI6AQZ4ejMK4o55oggAkp8WRz2YeR1cmb3qrXTVbjATjU0WAxJCRBRoKjSPpDX/twqE5Z652SoEUs8FRUig76KnIzABADb13ICL2LgW8SRVnAENCbTR0C3E6BsB0dYnLwA4H1e+2QRK2eWAUTnuZzfVeryjRgVNRwVySJ36mtTMiT3lEv/7UsQiAAo0ZVnnsMxBaSAq5YCacCA42xxUe7+33/034YyFJAAFDIO//C7Kx709S3bYgYIDr9ufkXMEQlrX5iUoJ2PaoYA/+OfJfB/+UxmjgBAcefMaHwAPvz15ZsWMC0UlyQFs92mh39qsNgoZGgcgaTFf/1lI8aGDvZrX/AwIIRsuQAFqwm3BPFV2x6ixSlFv+YXJQ1zOI+0eq4E3U0bzn6gYtqggCm/DOdb1aAX8cblDeQWMt63mBV2pG2Z2rGxWsV3sHFXwifLP//XZkNg6//tSxCoACkCjZaeJ9EFNEOt1g76IIAACqAGF+dafwS7l9FPRIkKnnRZz11d1/Ox1PRCLOxafwTo3uXHEglypz6goQgQdhtpKPDY20C6M5EMCjG6Xo/nsTSlTrv////lut07//+hylbhGKQQiFAA5XCaB6R0Bca4R/KoZC1aOTAQ8wEQUypH2T2auIhZb9dXdf3uf8XHhp9A/eIieVdvPLGFHvlH//////9Suzy4UIjjYPhEEB6uzmrjQIgAgBBwJuMcJjDsMkLkxcF3FuVRKdjv/+1LENQAKIHtlpinskUuN7DT3pPrNub+G5RfuISMMFRR0+phCTJ08a1LG7bcifYoEYZCp1sWFSJwRDL+bb///72f///4qoOusvRroNUJQjCCTYAAWAEcKqnFnCBKBsNmoDCF6mnaZLsl1TQLUIOSxKQGyOtglEUm0+1rTuW2i0rCU5Y5gutW0arA9Wa9XJmZvjAnf//////+Gm1nQ1X5b+VAAAsGgRAAREggCAAAAZeaEuPP83jXa//8yF3Fpo7/gMoAkDFDC7iZF5a26JqJ8PP/7UsRBAApQjVW09gARTRWndzLQAL/CfD6SJmUNf8lyacKBoX9lK/lwvF03Ny4Z/yoEBMRAP/qQakxBTUUzLjEwMKqqqqqqqqqqTEFNRTMuMTAwqqqqqqqqqqqqqqqqqqqqqqqqqqqqqqqqqqqqqqqqqqqqqqqqqqqqqqqqqqqqqqqqqqqqqqqqqqqqqqqqqqqqqqqqqqqqqqqqqqqqqqqqqqqqqqqqqqqqqqqqqqqqqqqqqqqqqqqqqqqqqqqqqqqqqqqqqqqqqqqqqqqqqqqq//tSxEwDwAABpBwAACAAADSAAAAEqqqqqqqqqqqqqqqqqqqqqqqqqqqqqqqqqqqqqqqqqqqqqqqqqqqqqqqqqqqqqqqqqqqqqqpMQU1FMy4xMDCqqqqqqqqqqqqqqqqqqqqqqqqqqqqqqqqqqqqqqqqqqqqqqqqqqqqqqqqqqqqqqqqqqqqqqqqqqqqqqqqqqqqqqqqqqqqqqqqqqqqqqqqqqqqqqqqqqqqqqqqqqqqqqqqqqqqqqqqqqqqqqqqqqqqqqqqqqqqqqqqqqqqqqqr/+1LEoYPAAAGkAAAAIAAANIAAAASqqqqqqqqqqqqqqqqqqqqqqqqqqqqqqqqqqqqqqqqqqqqqqqqqqqqqqqqqqqqqqqqqqqqqqkxBTUUzLjEwMKqqqqqqqqqqqqqqqqqqqqqqqqqqqqqqqqqqqqqqqqqqqqqqqqqqqqqqqqqqqqqqqqqqqqqqqqqqqqqqqqqqqqqqqqqqqqqqqqqqqqqqqqqqqqqqqqqqqqqqqqqqqqqqqqqqqqqqqqqqqqqqqqqqqqqqqqqqqqqqqqqqqqqqqv/7UsShg8AAAaQAAAAgAAA0gAAABKqqqqqqqqqqqqqqqqqqqqqqqqqqqqqqqqqqqqqqqqqqqqqqqqqqqqqqqqqqqqqqqqqqqqqqAADAQCAYEAgBAAAAAA/5mJGG4TmIpQ/7TGaHC6on7lMf8P0hnUBZkqLOaLA1YfAMoCzu6IGKgYBiQ1AaQSHm5uxuBq4sAaJBIGQjgBoIifN2d4GpzCAEPgMVBIDOppAy2P/2agzhY+AaDQMMhkAIVgsDQMBg/+g1mwDgeAMGBSIXVgYIAQNj//tSxKGDwAABpAAAACAAADSAAAAEg7P/u93wbkAYAAAWUCPgbQAYAADQDFCBtn/3+1mgDAcQDUDdcG24gGK6FhYX3DCgm///2/u+8OXAOAAthFwsgC4AUoLwLQAxgJOHoBygWVkS/////////xmAtHDVY76SZms1iwZnQTqCoYiAMhADMEACaSiMADiHM2NimDCdIlMAUAFKhEp9jD1GpMQ8BwwEgEHcRXlByXmncWza3FMjzgLPo0s3gZYR2JfLzPYAC5tHl0ZzPvwJL7ehAOb/+1LEoYPAAAGkAAAAIAAANIAAAASS5tLuKACZfnT1Z/CpOV76QsatspgJxoxlScnbfxT88NX4CZ0zq47TDv////wsd///eqbHHWNnH///////5zP7V5gKrCSxF9NN7P/+nydoDAIAAIA92tLBIyaTMzReHeCmLEro1rkK1SSYySzUvIngM9BsSJxIiXRdigRzi8lUR5eLyKywHyFsomJ4phZwckgJMmrEQJ8nV5gXbsqir////////////////etT9brrmaSboIIOgmyjA0efKv/7UsT/gAAAAaQUAAAjl0IjtztQAO+q3T6EaBQCusS29J8DJsDhAsUE+UrcChJJrbQqzMJk9jwMNpCIm90yDgKSWJztAngyGHE0INpURd+RXIyuK3VwOw8kyQnzMnx4HrUUG/Qy///mN8pcoICf9vK3/v/qqvrVV/rd/+myyHQjogpwEDViC68ITcyEIZIAADsQypILTBtIYkSLy93HvQQBB5Z1H7ZEobb3q3chTNOdp6iqwvydnZqXUpWz8cuRJU8/vLmJVDF8akagwvumpIZZ//tSxOqAFVz7abnsoBG+squznyABT3xGSZj8o5oeCN1tX8Ocn////659U+4YWN///+yEWnUzKdf//VWQx1OjFGBizDRDNiCGEEABEAAAEvYgeNShpFIjojjYjDW83DCVPnvVR/HSnt8qRhusO4bqNlRHQpjEcehWxG6RZXKBwHhf6jqSiQMPfignHcU0TmBhRILqMQLeEgS8xdKUSFlMbkEaugAgbKSyxb//oNNHc0//dVtyX/TyYCKEjIGOCcpoFy1xtEsAknbCYCpHTYtP27b/+1LEuwAOZZNlp7RaWeOyqvWDi4IyyngnRByjktSHDtmMJrCMsnpFDgJGA00IoHyjnAocXABBAgGbBtoNUjPl8NaH3Jod5ROFEnjMkQ6AgwX9IkWC+KEJ5IjnGaKRODmjUGyJsMRHxSQdwyygYotHcRZTZqTpOtyOIz5FyYLjFwuN//X6KCBfScvm////003rdmUgr/qskao/t/qqAAAAElIQAAAAdulYYAEJhX+sADhbndwBiGJdBh9E/tLFJWHCfyrvnLG5thfVMaR1bpq+1//7UsSjAA7ojVX1jAACaCusdzMwAmcNjeEKAHT0kVol1hXocf7ehjmCmP1CcVez338/MGse9GXwXttwYj+9N36SXlBqPjamUUNiVzNh8rt/3/v/TWdWjbvEaDISBUad+CY1hACOt9X//Cp36NtZ+MgL//yJvW5Qt4YiFxBikIGnBApgcOzQiAGEGH0NG7FhxEbwyIGCRGBjkggcNh4GaU0BngZgYRHQY1ExD0xAMMCC2kkXTaitbLagykXLpuZl8vmBbLhwqGBcNC+fWX3pGldP//tSxHgAETj9R7kXgAJoJOq3tVABXbUZpKT9aXf1K6v1uhWp+nrpIM1eg6dNOdN7OYdwMImdPsIXzXsIwwU0HlTxFSJ3jjDHdlkQMAAAAABUOzvy6WahhDBa0Pz+MNsDSzZbOWqymaeZM1AMx99XIdyC31h2l3GX//IUwTChVQya8rA6bBx44AOPNNs///58nk1CnQ5Lv7eX3M07t6JEFCBRED9UMu43aBbXxZYAeY/Xfyib1WaXmdet3ITai//oybYj//xCayiDE40TsCtpREb/+1LERAAKTJNd7AR0gTueLvWApm4U1BiSBAwj2oZe/z29h/4T229LiAwTCE5manoDEEAAAzVoh2vbXapNnhZFfi8tuiAXOwsMo8/aR6SLqy6t0FUadDMIg1n1q7VwCAfcX38QrMguJ6oaa7Nzxa0P7WuP+JqL1iGr+RjLGKvY0ytBDZrSkNYoEUIRuAATXpRFJkXC6PRgvVHCcOhQyUlNt8d7S4sNzSl1FkWnVB5HECANtwABW8YywwREiaGnknbDKih2iJQATKpJcDjrOYfYwP/7UsRRAA/1D1HsINVCUSLo6rWQAFCgJeEKqyMyCwQiTRRduPs7aVNS+1ap8st/ru8fp7POYXcst9/eP575//ru8dYb7zC/l2z39/////l//rvMqbXblqipc6uOcioZVZeeGeUkodSedyctvtI8XsncJqSV5VYuW57VDKSZlYrGav6hUapaWQEAEkSQT//v/3KUm2AMEayT9PhWtJOS6iqjMSIEBQ8yCrRqc0qZTJYakrV5v2nUt+drXwYhz3FUrTRgSHWApuKXNMe53lrWL1DI//tSxCUAEyEhXbj8ABFhiWQLnpAAZNKM7jquO1h/oTTU+quFrGNXMu6huWxeHI1Jv/uv/f7/9ZZ549w1jv7lLyh3jd3+FampLlBn//l+635ZSivLqfkzjn/dWa+N7tbx8GoFjwFgBEj0ktYCVEKV4cIBqIcdSuQ5DnJSkpFtAETIkQqJkUrIgsCQaJpoRSKWhKMBoGlHhKGssDXBU7lg7rBVwciIO/kagaLA1BXv4aUHP/LQViX8r1HuJfPKTEFNRTMuMTAwqqqqqqqqqqqqqqr/+1LECgPAAAGkAAAAIAAANIAAAASqqqqqqqqqqqqqqqqqqqqqqqqqqqqqqqqqqqqqqqqqqqqqqqqqqqqqqqqqqqqqqqqqqqqqqkxBTUUzLjEwMKqqqqqqqqqqqqqqqqqqqqqqqqqqqqqqqqqqqqqqqqqqqqqqqqqqqqqqqqqqqqqqqqqqqqqqqqqqqqqqqqqqqqqqqqqqqqqqqqqqqqqqqqqqqqqqqqqqqqqqqqqqqqqqqqqqqqqqqqqqqqqqqqqqqqqqqqqqqqqqqqqqqqqqqv/7UsRoA8AAAaQAAAAgAAA0gAAABKqqqqqqqqqqqqqqqqqqqqqqqqqqqqqqqqqqqqqqqqqqqqqqqqqqqqqqqqqqqqqqqqqqqqqqTEFNRTMuMTAwqqqqqqqqqqqqqqqqqqqqqqqqqqqqqqqqqqqqqqqqqqqqqqqqqqqqqqqqqqqqqqqqqqqqqqqqqqqqqqqqqqqqqqqqqqqqqqqqqqqqqqqqqqqqqqqqqqqqqqqqqqqqqqqqqqqqqqqqqqqqqqqqqqqqqqqqqqqqqqqqqqqqqqqq//tSxKGDwAABpAAAACAAADSAAAAEqqqqqqqqqqqqqqqqqqqqqqqqqqqqqqqqqqqqqqqqqqqqqqqqqqqqqqqqqqqqqqqqqqqqqqr+9xSz//3QvZcP6clA4Mvpi1CPOmYFxMSmGr/NOILjOEELn+aICE5CkVIGLn/9Bi+MuM2RMgZB//oIMaDmEYOwLZkXIf/0NCgUBAQWAiJAyLjTGuGMwTAYGFQqBgEY//ACCAWQBfQWeGrxk2FcEeDgYDIJpAzCNQMRhsDLBDA0KSQMHBoDGoH/+1LEoYPAAAGkAAAAIAAANIAAAARAwOEwMmi8DBYpABC///MwAg4KUIILGUDQnx0DgC5weRxiACgARWBspIAZ4GgAQPAxOAAChqBi8QgY1EoDRSAsFAAioAAMQMHgkDBIRASCv////IIFlYdGFp////4WhAYCFwDA9AxEKBbZdtttttEl7sVl4lF0UEEKKoYBFFjjhdhIcJiQ0BFOQjoiPJRFd53WzrfK9UIQ77LU7o+KJuMdkJT///12U7zCg8ou6uxDipCHIlChNBrqNH4ucf/7UsShg8AAAaQAAAAgAAA0gAAABDcUZxQp2O5TuQ9CUDjmZBz1R0AHlfD9GuzVniIeGVL9bAQI13lGAYPYOaNotzEbjUE2z/7GPdP/VkdM7xtKg4VBIrKp9zPxlZ2M7LBDmYQAIDNChpWIDNHL/0TKnCcI7//AkBNy1lf6attbdI2pG0ABUwqY0EOOgmIo+CkQDLpbTY65bWXNjz4Fm+zxGMEonRiRcjUEGiNxid1coKYgTbMDZMVF2RIJ2RWF0EMzwhttqYm7Ian1kMzPkGia//tSxP+AAAABpBQAACO8QiHDH1AAq2upaEqZXaaQrQV+CAEOLI8YRjTgfiCweN+Ay25ks6ggTLpSTlzdGyhdk8QzqYfOHpTUeNOdDdNCU0VmYdiQPQpY5dWerRByGsRVp8CW6sYawuxtGvwxL4xH30eSuy9nDprCImKQQRoVkgSFLV24JUKwMsLY0B4V1bjy2yyG+tmw+3hDs69CRqHgQIzagGbLlDhwuIOr/8preqq6YzTLeVqRIIIk8sllNqlcNIOBLl/gjDBQ5m8mC4PJKA7/+1LE5gANqXNhvDKAGTwYbPxnjsreGgaAOMGKQkmrAaZc0UN1U1OVnTYX56KcgqdZ1Gj0MBQNIVCJAXWIR87aJRNYPoZvJjCMgFR1DEVhRUQBbrtLhssef87R///ROmHKc9habU4lnVERSKokaLVoL263BllG4rzAxNwdKBjM2KlkgHBJOpcoJB5FsUjIKnUgI8UIgqqp4sVCaiQiIwKE8A/ywUJCVB7//6MKhJ4FOpWr/1+iPy2XAEMAQAAAD0kQ9mTRmQAcANGOqifjIAiA0v/7UsTlgEogx3GsBS7ycRfsfcyx+HKJTogBiQkKth4rj8hAVE2/6sTXk6VJczlASlMMzdlCr8MKJb5wMf8QUs6jywCPLYE8RHl6jWVyrkriJajoKgoFToSfPfW7YkOklA1KxLGAAAAAAC4mJ+pDYwCBCQ2CFCh4FbRxWclgY8QlEvRAApmiixFrCVix0FUeXRYU3GDH9issvy3vJ6yTmMWWkiYkSLBubUmMXJG5XJsxKAn6m8NmqVDXfrSRVuRjN6KiFN0rNSdqs/bVStXNJCu3//tSxMyADfilbey9LwFMh/A8vCQqQUWAAAKiSD911pAgWM7dU9Q4rMRNzeeM8teAwsXsHAgCgLkRtdgkEAFJHCtxSYYJEcidSTGMFykRMGSUkgmk7lw2pGxjQMjYurLpigxvRSRc1seTMHRWcWkp501RydMT1Fak2si1UydFJSVbfrXXVRRotSoooLUrRopet1mxiGjAVCJQCBRH///uQRYCAqHl83m03u+2urAAXwYR+nT+IqNRcMP41xLktTH5jC8jqpDf1Jl3IEXmzpgO6tj/+1LEyQANDKdZ56RvAbym6LWjCpmXwy7ftYYa+ED0mH7o5RhLJtrUPwK4Mgq9+xhL3HmJZDlVdzcmTMBm2I/3W6SxL5fasVLGaTzqoSk913Kqrs73G33PP8/7hyxn1yYMgdwo3AroyB/ssL2t9/f565hv8/5/5Wqu7NzlauEqggEkF12u20lbjcjSYAgwF9HM9TvT1eyvDZfGGSZHpsZJ3Jgd4COPyAEIP1PE6U5PWFwLCCrucZ1GehybXR0JtDOcKjjMcIupJj2f1xJHHGyQoP/7UsS7ABExKTb1uAACZ6StNx+AQ0iSUpewTBkR3A/2tOIMe6mWGJODvQK4XG2OVmgsLfHUSvi8vCAjnicjmxsENPppRsK5eZV8P/4z9//61/96zb+bT9hhPJ6xo+2ZnZHl3pXhXld9fXXKpkA+fdmkPyAZrF+IoYUedYZnujXQfWaYYI1bNMZPEzYUapX7gsQCDAChP0jtpbFcyKwWhzeODQXcyGWDdti+IwNq2rID+BbEJx1d6wyq6igm0/cbblvHzJ7X9qTah3rDv422uPJe//tSxIcAE1k/VbgXgBJcpu8/NPIKalYV9wc43jF9arSZ/H9b5gY+NxMf+16bxmvrSBEp+yHP//tV36U+2csnz+v1sDJaIA8PD7cKVakiJJGqqzKmZiQCeMzl756HknkMRVE/U0KPRjy7OeN3m/6ZdCYQrBoodOodOLehOnib4IJIaRzIupElbl3Ge9Av+9KTzSAFf8AAP85a0pFXQ/DqeqGqeCAEoRDlkeIGEJw6UsTD4HAAGUqol/nQsyESpluropWSRe+ykoT///+5nmPMQaT/+1LETAAKfGGNuPeAEVIe7v+eUAExSKItDXeUSKErqpr8a0trasxxaEMQAr0CVqmQR+WPYnhxIKKsKwgYlgTqzjWGB0rn2aw0+Xc6DKfsBKCwHOoGV7Dfv8broY3LVCDYiTESUYJsbIYCuZM8p8J1imP5o0O1GJeOpQLzDBJ8kCSsa+zKJxUqMeucDx8Nen82Zle+ZmCOxrEA6VApXFuf3aH6u93xgJE1s0qRyU6KRlqZo86HhZ2VAXSyZAA3EAHL6sFvhBIhBankrtuSLpFUVP/7UsRVgBIdPWPHhfjCI6bsfZGnGI2I3pFcgd0M63daiDOYzf5m+7Aq9a1+FDW7/4c63+MGZnFggola9ano7BVbIm5J3PPv5dI5/Wx/iy0ieXLkyAGhkQh42aBkscy8aQ96S2s1FObK6G2kVniZQUubJV0SwYNKkVYhZFSHt4mYKuaWvqwKAAAAyAyLKOOAyAeImdotoYagVZUkCnSe5Xf+ci2uxrqGrWzJyIeLaLaJLAPAyi6kKQp5DmYnJypq0GZ7uuJ/ma2Zs+v1i29//11///tSxCaAE0VBUZWHgAGNIapnMNAA8//+vzj/Ovn4+H1LbteLpTKqCoVwhzs0TmUzM+ci/NppFyZ2tZhMKtvTwoKtpd7nqaGrVllao7W8W++gwfChQYtQaJRFDkO1eJvpmcqAABRVRQAgkqBLEiq8Bdhh8EJKARMoj6ntffwvhSq3viSA9QBANQHW4wRFJUvorJzx4Gh03Up0fL5cY8ZrZJX90Fs//6CTJrdD//UinLzIOZf/Tb61VOkZKC/1+v/3+toErG01UAIAADcoAAOsZQ7/+1LEBYALwYFTvYmAGXAb6vWEilKEqHRCXXdfnGHgQgX0+FagqIfAKiFzE8ZTYiK21VtRM21zNT0mJs/qQZ30XWt6Kv//////QX6Df/////q/1IXtqWtNbM7p710KbKTVN1MxlbRX2JgGAAZbNmCBnXf8iPxhQ1izZklwR0Evxe9XvJvhK4P53kAuJYzaQCRjJchFvvlwLRt5Q58xmKqdKf/d//6E7GTW6EgrhCKMCdSBPc3Z36xBihpKoZrdXjaRzBEOtAQBBlt/BAR1oec5///7UsQGgApko2OnmTERT4lsNBekP3bjhyq3lEgMbert+jSn1/oThxO66BAEIIJVBhBAhDNEEIjO+AgCAYJMXFYbDAoJGLRisViskYtcjFYrJ0f/26NP////0fVcVGWpa3GyQBGMkSraTAAUoyU7SAHeK8csydVpCRwRHGYShwUGQaOoSFwIjkFiIQgpuQUCuTBQxwUFBXAoKOyCgr4oUN8FBvxBb/83/F//mv5S3/tnQLyAERAHNFiByKFQmRjgOYVIMRUqClB9gZssAowKZeWU//tQxBEDyXD1SAoAWMEvtioBQArghIycToTI3/+//7UJIRkDjw4WJh9H//r2LQD6gQFT4XeAJNBQGNoOQiGNVSYIEQ2FolwjABWgX3NCfJ8coUKBkioZsu6Ixpsh6Tf/8p3QxCgbqVkFgBHd1//////z7KSHR1KimVTKO6qdldZDIahGmOhzMdg1CrmMww3bdgEg+gsJmwj9FnyPoIaooyKBXxlKq2XAOxmmVcunoqFfj+q5TX1zEVeUTBCroEE0VA8///f/////6fKPJp7hRP/7UsQigAos/WOnlNdRQA6sNMeYusIANX/9OUQ737P/oRNA0AGpbgACO0PIRIBc6R5ntY/16GA/KBkxWo5gr7jfJvqOX5MKyJ7cSQh36JRMnd9jWQ71TIJ98f////OwfBZJdLv//0k8BOXde/R3rmhlNboEwQVJdgCRytZd62+2SwQciYbjjjHl3KhtyzLtC1lhjtwuoywGIV05DL9SgJQMxKiQ1kdP9//V7//////QzkIykQc0xB3//ZjX96HLf6/0V3UiMQyXb0oHWHa09PzR//tSxC+AChz9ZawMUtE8jm12nrAC+F50RTPDXK4YjbiAgD4gPqhsB4sII+5ubGy3/25991w4zZURpHgcdlEEYJvSK9J3u/rZFQVBk0wSgn///t7bv+q+BIAgJN3S+buBgQiECWgQTVEGYw9Zc4rCstLJRtg0bQV+asaFkkZmiwI4yhwjC7NjyYnMixaHEZLWxudN1GAzpal1jpqjN1Gh9BBRFqVlt2U1DV7/3Zb3/Uy2/6dB0GUhRSLoEb/KJAY8+fYJQEJQpCdBCApgigzNDM//+1LEPYAOPQNruYgQEhkn6f8msABztm52UDAAD2ArLkeAgYXxzcnxbBC2ggH4Cb1IIYEohr5Mx6IMDsEkEE+TG20YkxdEm0itsYx5IJkjoLCVpEpxtsnfvPHD470rSXJOiSWdnHMZSdvJZmcaa0islwbGhxg/xUv6He46eacZw64tvLZb///7p3sZdslL//ue96p6/79OYgnZEZWTxzoedvMzN18XzM0reZlgkKL/jAhgTVOdSnQK6NvtktW5dZ2TnNrzMmONv5q+79JYWHBgA//7UsQfAAo0r2q81gARPypwvGGKNA8AwYOO///7uPD5NaNRx6g///9d/CxTfMO4SSA7uFgFig043PF7xq2s5f+KBe71j+uCqmEABhP/TVfOKX8JjvWW13BKGbdFdWd//////////6+5UczMyGd2FizTLnXdKa6kPXX+arh8l1IAD4bmeHqkpUUTWzcZwVARBxbqfIVYswTmweKJVrpqO+WW2KCDAojpGPXIr3PnbzNYpAzWMYQyeCpX53r///6rVRDUaFg0JXysQSmxqhiQCC4l//tSxCwACdSvd+eYboFDFS39lI1aBSpp5rGbawl2q4UGNCtGGVisKH0OjYiFUuUTWaGqlYuSsdwSMZw1mTUjMs4/2qRLSyIqVUZ9/+V53Ev//8qgRPU9wdagGn0KeAcIV0QAAAOHNyxieEZcSVt5vnOXYb8QutlblcAcETYwOTfcVrkpr4trxoqKpm6ql/lXf0zfxfa7RayaaVEoC/LxYed2h3///+VcWBU0088NQLnWNhAWi0QCAWigQCgQAABeQJsp8CFC1eBCgFMaGeE2EDX/+1LEOgAKhJ9b9PQAAVEba3ca0AI+Lhwi/koTi+M3+XB5jwPEmlUr8eB4nkA0GG//JJFZqcPof/543KB4+aGpse/5UOAsAQ4C1UxBTUUzLjEwMFVVVVVVVVVVVVVVVVVVVVVVVVVVVVVVVVVVVVVVVVVVVVVVVVVVVVVVVVVVVVVVVVVVVVVVVVVVVVVVVVVVVVVVVVVVVVVVVVVVVVVVVVVVVVVVVVVVVVVVVVVVVVVVVVVVVVVVVVVVVVVVVVVVVVVVVVVVVVVVVVVVVVVVVf/7UsRDg8AAAaQcAAAgAAA0gAAABFVVVVVVVVVVVVVVVVVVVVVVVVVVVVVVVVVVVVVVVVVVVVVVVVVVVVVVVVVVVVVVVVVVVVVVVVVVVVVVVVVVVVVVVVVVVVVVVVVVVVVVVVVVVVVVVVVVVVVVVVVVVVVVVVVVVVVVVVVVVVVVVVVVVVVVVVVVVVVVVVVVVVVVVVVVVVVVVVVVVVVVVVVVVVVVVVVVVVVVVVVVVVVVVVVVVVVVVVVVVVVVVVVVVVVVVVVVVVVVVVVVVVVVVVVV\" type=\"audio/mpeg\"/>\n",
       "                        Your browser does not support the audio element.\n",
       "                    </audio>\n",
       "                  "
      ],
      "text/plain": [
       "<pydub.audio_segment.AudioSegment at 0x10e254b50>"
      ]
     },
     "execution_count": 4,
     "metadata": {},
     "output_type": "execute_result"
    }
   ],
   "source": [
    "result_sound = None\n",
    "\n",
    "for i, letter in enumerate(string):\n",
    "    if letter == ' ': # fill empty sound\n",
    "        new_sound = letter_sound._spawn(b'\\x00' * (normal_frame_rate // 3), overrides={'frame_rate': normal_frame_rate})\n",
    "    else: # fill tts sound\n",
    "        # create tts if sample sound not exist\n",
    "        if not os.path.isfile('samples/%s.mp3' % letter):\n",
    "            tts = gTTS(letter, lang=lang)\n",
    "            tts.save('samples/%s.mp3' % letter)\n",
    "\n",
    "        # load sample sound\n",
    "        letter_sound = AudioSegment.from_mp3('samples/%s.mp3' % letter)\n",
    "\n",
    "        # slice out head and tail part of audio\n",
    "        raw = letter_sound.raw_data[5000:-5000]\n",
    "\n",
    "        # adjust pitch around +2\n",
    "        octaves = 2.0 + random.random() * random_factor\n",
    "        frame_rate = int(letter_sound.frame_rate * (2.0 ** octaves))\n",
    "        print('%s - octaves: %.2f, fr: %.d' % (letter, octaves, frame_rate))\n",
    "\n",
    "        new_sound = letter_sound._spawn(raw, overrides={'frame_rate': frame_rate})\n",
    "\n",
    "    # set frame rate to normal(44100) and combine letter sounds\n",
    "    new_sound = new_sound.set_frame_rate(normal_frame_rate)\n",
    "    result_sound = new_sound if result_sound is None else result_sound + new_sound\n",
    "    \n",
    "result_sound"
   ]
  },
  {
   "cell_type": "code",
   "execution_count": 5,
   "metadata": {},
   "outputs": [
    {
     "data": {
      "text/plain": [
       "<_io.BufferedRandom name='result/안녕하세요 너굴 상회입니다.mp3'>"
      ]
     },
     "execution_count": 5,
     "metadata": {},
     "output_type": "execute_result"
    }
   ],
   "source": [
    "result_sound.export('result/%s.mp3' % string, format='mp3')"
   ]
  },
  {
   "cell_type": "code",
   "execution_count": null,
   "metadata": {},
   "outputs": [],
   "source": []
  }
 ],
 "metadata": {
  "kernelspec": {
   "display_name": "Python 3",
   "language": "python",
   "name": "python3"
  },
  "language_info": {
   "codemirror_mode": {
    "name": "ipython",
    "version": 3
   },
   "file_extension": ".py",
   "mimetype": "text/x-python",
   "name": "python",
   "nbconvert_exporter": "python",
   "pygments_lexer": "ipython3",
   "version": "3.7.7"
  }
 },
 "nbformat": 4,
 "nbformat_minor": 4
}
